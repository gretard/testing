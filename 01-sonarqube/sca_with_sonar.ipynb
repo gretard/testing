{
 "cells": [
  {
   "cell_type": "markdown",
   "metadata": {
    "slideshow": {
     "slide_type": "slide"
    }
   },
   "source": [
    "# Static code analyis with SonarQube\n",
    "\n",
    "Introduction to getting started and using SonarQube"
   ]
  },
  {
   "cell_type": "markdown",
   "metadata": {
    "slideshow": {
     "slide_type": "slide"
    }
   },
   "source": [
    "# Static code analysis\n",
    "Analysis  of code without executing it. Can detect various issues such as dead code, possible performance, design, naming and other kinds of issues.\n",
    "\n",
    "```\n",
    "public void a(int y) {  // method and/or param name?\n",
    "                        // empty method?\n",
    "}\n",
    "```"
   ]
  },
  {
   "cell_type": "markdown",
   "metadata": {
    "slideshow": {
     "slide_type": "slide"
    }
   },
   "source": [
    "# Static code analysis\n",
    "Usually done by analysing source code and constructing AST (Abstract Sytax Tree).\n",
    "<table>\n",
    "<tr> <td><pre>\n",
    "while b ≠ 0\n",
    "  if a > b\n",
    "    a := a − b\n",
    "  else\n",
    "    b := b − a\n",
    "return a</pre>\n",
    "</td><td><img width=\"400px\" height=\"auto\" src=\"https://upload.wikimedia.org/wikipedia/commons/thumb/c/c7/Abstract_syntax_tree_for_Euclidean_algorithm.svg/400px-Abstract_syntax_tree_for_Euclidean_algorithm.svg.png\" /></td></tr>\n",
    "</table>\n",
    "\n",
    "\n",
    "Source: https://en.wikipedia.org/wiki/Abstract_syntax_tree"
   ]
  },
  {
   "cell_type": "markdown",
   "metadata": {
    "cell_style": "center",
    "slideshow": {
     "slide_type": "slide"
    }
   },
   "source": [
    "# SonarQube\n",
    "[SonarQube](https://www.sonarqube.org) allows tracking project's and different branches quality in terms of:\n",
    "\n",
    "- Issues found by statically analyzing issues internally and found by external tools\n",
    "- Coverage by tests\n",
    "- Code complexity\n",
    "\n",
    "Supports: Java, C#, Scala, Python and other languages\n"
   ]
  },
  {
   "cell_type": "markdown",
   "metadata": {
    "slideshow": {
     "slide_type": "slide"
    }
   },
   "source": [
    "# Architecture\n",
    "\n",
    "```\n",
    "+----------------------------+            +--------------------------------+\n",
    "|                            |            |                                |\n",
    "|                            +<-----------+  Sonar scanner                 |\n",
    "|                            |            |                                |\n",
    "|                            |            +--------------------------------+\n",
    "|   Server, i.e.             |\n",
    "|                            |            +--------------------------------+\n",
    "|   http://localhost:9000    |            |                                |\n",
    "|                            +<-----------+  Maven scanner                 |\n",
    "|                            |            |                                |\n",
    "|                            |            +--------------------------------+\n",
    "|                            |\n",
    "|                            |            +--------------------------------+\n",
    "|                            |            |                                |\n",
    "|                            +<-----------+  Other scanners...             |\n",
    "|                            |            |                                |\n",
    "+----------------------------+            +--------------------------------+\n",
    "```"
   ]
  },
  {
   "cell_type": "markdown",
   "metadata": {
    "slideshow": {
     "slide_type": "slide"
    }
   },
   "source": [
    "# Getting started: server side\n",
    "\n",
    "1. Just download zip from https://www.sonarqube.org/downloads/\n",
    "2. Extract\n",
    "3. If needed add any additional plugins to *./extensions/downloads* folder\n",
    "4. Run **./bin/windows-x86-64/StartSonar.bat**\n",
    "5. Open http://localhost:9000 in your browser"
   ]
  },
  {
   "attachments": {
    "s.png": {
     "image/png": "[encoded data removed]"
    }
   },
   "cell_type": "markdown",
   "metadata": {
    "slideshow": {
     "slide_type": "slide"
    }
   },
   "source": [
    "# Getting started: server side\n",
    "![s.png](attachment:s.png)"
   ]
  },
  {
   "cell_type": "markdown",
   "metadata": {
    "slideshow": {
     "slide_type": "slide"
    }
   },
   "source": [
    "# Getting started: scanning using sonar-scanner\n",
    "\n",
    "1. Download and extract scanner from https://docs.sonarqube.org/latest/analysis/scan/sonarscanner/\n",
    "2. git clone https://github.com/algorithm-visualizer/algorithm-visualizer.git\n",
    "3. cd algorithm-visualizer\n",
    "3. Run sonar-scanner.cmd, either\n",
    "    - ```sonar-scanner.cmd -Dsonar.projectKey=\"test:js\" -Dsonar.projectName=\"Test js project\" -Dsonar.sources=\".\"```\n",
    "    - you can specify everything in *sonar-project.properties* file and run sonar-scanner.cmd from that directory\n"
   ]
  },
  {
   "cell_type": "markdown",
   "metadata": {
    "slideshow": {
     "slide_type": "slide"
    }
   },
   "source": [
    "# Getting started: scanning dotnet\n",
    "\n",
    "1. git clone https://github.com/dotnet/arcade-minimalci-sample.git\n",
    "2. dotnet tool install --global dotnet-sonarscanner\n",
    "3. dotnet-sonarscanner begin /k:\"test:dotnet\" /v:\"1.0.0\" /n:\"Test C# project\" /d:sonar.host.url=\"http://localhost:9000\"\n",
    "4. dotnet build\n",
    "5. dotnet-sonarscanner end"
   ]
  },
  {
   "cell_type": "markdown",
   "metadata": {
    "slideshow": {
     "slide_type": "slide"
    }
   },
   "source": [
    "# Getting started: scanning java using maven goal\n",
    "\n",
    "1. git clone https://github.com/jenkins-docs/simple-java-maven-app.git\n",
    "2. cd simple-java-maven-app\n",
    "2. mvn clean install sonar:sonar"
   ]
  },
  {
   "cell_type": "markdown",
   "metadata": {
    "slideshow": {
     "slide_type": "slide"
    }
   },
   "source": [
    "# Scanner configuration\n",
    "\n",
    "Some important properties, which can be specified using command line arguments or in properties file:\n",
    "\n",
    "- *sonar.host.url* property, i.e. -Dsonar.host.url=http://localhost:88888\n",
    "- *sonar.projectBaseDir* property if you want to run from different directory i.e. -Dsonar.projectBaseDir=\"/home/ftpdrop/cobol/project1\"\n",
    "- *sonar.projectKey*\n",
    "- *sonar.projectName*\n",
    "- *sonar.sources*\n",
    "- *sonar.externalIssuesReportPaths*\n",
    "- *sonar.coverageReportPaths*"
   ]
  },
  {
   "cell_type": "markdown",
   "metadata": {
    "slideshow": {
     "slide_type": "slide"
    }
   },
   "source": [
    "# Custom analysis using Sonar API\n",
    "Examples exist for Java, Python, PHP languages:\n",
    "1. git clone https://github.com/SonarSource/sonar-custom-rules-examples\n",
    "2. Open java project\n",
    "3. Create new rule extending BaseTreeVisitor class and implementing JavaFileScanner interface\n",
    "4. Add rule to the org.sonar.samples.java.RulesList class\n"
   ]
  },
  {
   "cell_type": "markdown",
   "metadata": {
    "slideshow": {
     "slide_type": "slide"
    }
   },
   "source": [
    "# Custom analysis using Sonar API\n",
    "\n",
    "```\n",
    "@Rule(key = \"AvoidTooManyParams\", name = \"Too many params\", description = \"Method contains too many arguments.\")\n",
    "public class AvoidTooManyParamsRule extends BaseTreeVisitor implements JavaFileScanner {\n",
    "\tprivate JavaFileScannerContext context;\n",
    "    \n",
    "\t@RuleProperty(defaultValue = \"3\", description = \"Max allowed number of arguments\")\n",
    "\tprotected int maxParams;\n",
    "    \n",
    "\t@Override\n",
    "\tpublic void scanFile(JavaFileScannerContext context) {\n",
    "\t\tthis.context = context;\n",
    "\t\tscan(context.getTree());\n",
    "\t}\n",
    "\t@Override\n",
    "\tpublic void visitMethod(MethodTree tree) {\n",
    "\t\tif (tree.parameters().size() > maxParams) {\n",
    "\t\t\tcontext.reportIssue(this, tree, \"Consider using object with required properties\");\n",
    "\t\t}\n",
    "\t\tsuper.visitMethod(tree);\n",
    "\t}\n",
    "}\n",
    "```"
   ]
  },
  {
   "cell_type": "markdown",
   "metadata": {
    "slideshow": {
     "slide_type": "slide"
    }
   },
   "source": [
    "# Custom analysis using Sonar API\n",
    "1. Run mvn clean install\n",
    "2. Copy jar to ./extendsions/downloads folder\n",
    "3. Restart SonarQube\n",
    "4. Enable custom rules:\n",
    "    - Create new Quality Profile\n",
    "    - Enable rules\n",
    "    - Set as default profile\n",
    "5. Run analysis on a sample Java project (mvn clean install sonar:sonar)"
   ]
  },
  {
   "cell_type": "markdown",
   "metadata": {
    "slideshow": {
     "slide_type": "slide"
    }
   },
   "source": [
    "# Custom analysis using Roslyn\n",
    "You can read more at https://www.meziantou.net/writing-a-roslyn-analyzer.htm"
   ]
  },
  {
   "cell_type": "markdown",
   "metadata": {
    "slideshow": {
     "slide_type": "slide"
    }
   },
   "source": [
    "# Summary\n",
    "- Sonar scanners are responsible for collecting data internally and from external tools and reporting to Sonar server\n",
    "- Properties are used to specify options for sonar scanner, such as host, project name, versions, branch and many others\n",
    "- Different kind of scanners are available greatly simplyfing configuration, including dotnet, java\n",
    "- Additional sonar plugins can be installed by usually downloading jars to *./extensions/downloads* directory"
   ]
  },
  {
   "cell_type": "markdown",
   "metadata": {
    "slideshow": {
     "slide_type": "slide"
    }
   },
   "source": [
    "# What's next\n",
    "- For Java, Javascript, PHP and Python you can check out https://github.com/SonarSource/sonar-custom-rules-examples\n",
    "- For .NET projects analysis - https://www.meziantou.net/writing-a-roslyn-analyzer.htm\n",
    "- More information on extending SonaQube - https://docs.sonarqube.org/latest/extend/developing-plugin/"
   ]
  }
 ],
 "metadata": {
  "celltoolbar": "Slideshow",
  "kernelspec": {
   "display_name": "Python 3",
   "language": "python",
   "name": "python3"
  },
  "language_info": {
   "codemirror_mode": {
    "name": "ipython",
    "version": 3
   },
   "file_extension": ".py",
   "mimetype": "text/x-python",
   "name": "python",
   "nbconvert_exporter": "python",
   "pygments_lexer": "ipython3",
   "version": "3.7.3"
  }
 },
 "nbformat": 4,
 "nbformat_minor": 2
}
