{
 "cells": [
  {
   "cell_type": "markdown",
   "metadata": {
    "slideshow": {
     "slide_type": "slide"
    }
   },
   "source": [
    "\n",
    "\n",
    "# Docker introduction\n",
    "\n"
   ]
  },
  {
   "cell_type": "markdown",
   "metadata": {
    "slideshow": {
     "slide_type": "slide"
    }
   },
   "source": [
    "##  Outline\n",
    "\n",
    "- Theory on docker - what is it, importance\n",
    "- Containers\n",
    "- Demonstration: running containers\n",
    "- Demonstration: creating images\n",
    "- What to do next"
   ]
  },
  {
   "cell_type": "markdown",
   "metadata": {
    "slideshow": {
     "slide_type": "slide"
    }
   },
   "source": [
    "## What is docker\n",
    "\n",
    "Docker is a platform for developers and sysadmins to develop, deploy, and run applications with containers. \n",
    "\n",
    "[https://docs.docker.com/get-started/]"
   ]
  },
  {
   "cell_type": "markdown",
   "metadata": {
    "slideshow": {
     "slide_type": "slide"
    }
   },
   "source": [
    "## Why is it important?\n",
    "\n",
    "- More and moreservices are running as docker containers (CJ, spark cubing)\n",
    "- Drone integration (each step uses docker image for running build steps)\n",
    "- Kubernetes integration"
   ]
  },
  {
   "cell_type": "markdown",
   "metadata": {
    "slideshow": {
     "slide_type": "slide"
    }
   },
   "source": [
    "## What is a container?\n",
    "\n",
    "<img src=\"https://www.docker.com/sites/default/files/d8/styles/large/public/2018-11/container-what-is-container.png?itok=vle7kjDj\" style=\"width: auto; height: 350px;\"/>\n",
    "\n",
    "A Docker container image is a lightweight, standalone, **executable package** of software that includes everything needed to run an application: code, runtime, system tools, system libraries and settings.\n",
    "\n",
    "\n",
    "[https://www.docker.com/resources/what-container]"
   ]
  },
  {
   "cell_type": "markdown",
   "metadata": {
    "slideshow": {
     "slide_type": "slide"
    }
   },
   "source": [
    "## Differences from VM\n",
    "\n",
    "|**VMs** |\t**Containers**|\n",
    "|-------| -------------|\n",
    "| Heavyweight | Lightweight|\n",
    "|Limited  performance | \tNative performance|\n",
    "|Each VM runs in its own OS |\tAll containers share the host OS|\n",
    "|Hardware-level virtualization |\tOS virtualization|\n",
    "|Startup time in minutes \t|Startup time in milliseconds|\n",
    "|Allocates required memory |\tRequires less memory space|\n",
    "|Fully isolated and hence more secure |\tProcess-level isolation, possibly less secure|\n",
    "\n",
    "[https://www.backblaze.com/blog/vm-vs-containers/]"
   ]
  },
  {
   "cell_type": "markdown",
   "metadata": {
    "slideshow": {
     "slide_type": "slide"
    }
   },
   "source": [
    "\n",
    "\n",
    "# Demonstration\n",
    "\n"
   ]
  },
  {
   "cell_type": "markdown",
   "metadata": {
    "slideshow": {
     "slide_type": "slide"
    }
   },
   "source": [
    "## Running container\n",
    "\n",
    "Open cmd and hit:\n",
    "\n",
    "```\n",
    "docker run hello-world\n",
    "```"
   ]
  },
  {
   "cell_type": "markdown",
   "metadata": {
    "slideshow": {
     "slide_type": "slide"
    }
   },
   "source": [
    "## Running command on container\n",
    "\n",
    "Open cmd and hit:\n",
    "\n",
    "```\n",
    "docker run -it ubuntu bash\n",
    "```\n",
    "\n",
    "After this execute:\n",
    "```\n",
    "whoami\n",
    "```\n",
    "\n",
    "Once you are done hit Ctlr+d."
   ]
  },
  {
   "cell_type": "markdown",
   "metadata": {
    "slideshow": {
     "slide_type": "slide"
    }
   },
   "source": [
    "\n",
    "\n",
    "# Creating own images\n",
    "\n"
   ]
  },
  {
   "cell_type": "markdown",
   "metadata": {
    "slideshow": {
     "slide_type": "slide"
    }
   },
   "source": [
    "## Dockerfile commands\n",
    "\n",
    "- **FROM** - The base image for building a new image. This command must be on top of the dockerfile.\n",
    "- **MAINTAINER** - Optional, it contains the name of the maintainer of the image.\n",
    "- **RUN** - Used to execute a command during the build process of the docker image.\n",
    "- **ADD** - Copy a file from the host machine to the new docker image. There is an option to use an URL for the file, docker will then download that file to the destination directory.\n",
    "- **ENV** - Define an environment variable.\n",
    "- **CMD** - Used for executing commands when we build a new container from the docker image.\n",
    "- **ENTRYPOINT** - Define the default command that will be executed when the container is running.\n",
    "- **WORKDIR** - This is directive for CMD command to be executed.\n",
    "- **USER** - Set the user or UID for the container created with the image.\n",
    "- **VOLUME** - Enable access/linked directory between the container and the host machine.\n",
    "\n",
    "[https://www.howtoforge.com/tutorial/how-to-create-docker-images-with-dockerfile/]"
   ]
  },
  {
   "cell_type": "markdown",
   "metadata": {
    "slideshow": {
     "slide_type": "slide"
    }
   },
   "source": [
    "## Step1: Preparation\n",
    "\n",
    "Create text file *Dockerfile*:\n",
    "\n",
    "```\n",
    "FROM ubuntu\n",
    "WORKDIR /opt\n",
    "COPY hello.txt .\n",
    "CMD [\"/bin/cat\", \"hello.txt\"]\n",
    "```\n",
    "\n",
    "Create *hello.txt* file with any content in the same dir.\n",
    "\n",
    "[https://www.howtoforge.com/tutorial/how-to-create-docker-images-with-dockerfile/]"
   ]
  },
  {
   "cell_type": "markdown",
   "metadata": {
    "slideshow": {
     "slide_type": "slide"
    }
   },
   "source": [
    "## Step2: Building image\n",
    "Building image:\n",
    "    \n",
    "```\n",
    "docker build -t helloimg:1.0.0 .\n",
    "```\n",
    "\n",
    "Test container:\n",
    "    \n",
    "```\n",
    "docker run helloimg:1.0.0\n",
    "```"
   ]
  },
  {
   "cell_type": "markdown",
   "metadata": {
    "slideshow": {
     "slide_type": "slide"
    }
   },
   "source": [
    "## Running container\n",
    "\n",
    "Starting command (bash) in container in detached mode:\n",
    "```\n",
    "docker run --name hellotest -it helloimg:1.0.0 bash\n",
    "```\n",
    "\n",
    "Hit CTLR+p+q (will leave container running)\n",
    "\n",
    "\n",
    "You can attach to container using\n",
    "\n",
    "```\n",
    "docker attach hellotest\n",
    "```\n",
    "Mounting windows folder:\n",
    "\n",
    "```\n",
    "docker run -it -v c:\\Users:/data ubuntu bash\n",
    "```"
   ]
  },
  {
   "cell_type": "markdown",
   "metadata": {
    "slideshow": {
     "slide_type": "slide"
    }
   },
   "source": [
    "## Other commands\n",
    "\n",
    "Listing images:\n",
    "```\n",
    "docker images\n",
    "```\n",
    "\n",
    "Listing containers:\n",
    "```\n",
    "docker ps\n",
    "```\n",
    "\n",
    "Downloading images:\n",
    "```\n",
    "docker pull postgres\n",
    "```\n",
    "\n",
    "Stopping container:\n",
    "```\n",
    "docker stop hellotest\n",
    "```\n"
   ]
  },
  {
   "cell_type": "markdown",
   "metadata": {
    "slideshow": {
     "slide_type": "slide"
    }
   },
   "source": [
    "# Summary\n",
    "\n",
    "We learned basics for running and creating containers.\n",
    "\n",
    "Docker allows running applications in isolation. They can simplifly processes greatly as you don't need to worry about various dependencies as everything is packed into a single image. \n",
    "\n",
    "You will see more of containers as containerization will be applied more and more as drone and kubernetes are adopted.\n",
    "\n",
    "## Thank you"
   ]
  }
 ],
 "metadata": {
  "celltoolbar": "Slideshow",
  "kernelspec": {
   "display_name": "Python 3",
   "language": "python",
   "name": "python3"
  },
  "language_info": {
   "codemirror_mode": {
    "name": "ipython",
    "version": 3
   },
   "file_extension": ".py",
   "mimetype": "text/x-python",
   "name": "python",
   "nbconvert_exporter": "python",
   "pygments_lexer": "ipython3",
   "version": "3.7.3"
  }
 },
 "nbformat": 4,
 "nbformat_minor": 2
}
